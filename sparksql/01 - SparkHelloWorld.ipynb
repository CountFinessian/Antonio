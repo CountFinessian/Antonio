{
  "cells": [
    {
      "cell_type": "code",
      "execution_count": 1,
      "metadata": {
        "id": "XSJx_IHilEax",
        "outputId": "b592e287-7ad2-4008-de28-ec71f6a8d55f",
        "colab": {
          "base_uri": "https://localhost:8080/",
          "height": 0
        }
      },
      "outputs": [
        {
          "output_type": "stream",
          "name": "stdout",
          "text": [
            "Requirement already satisfied: pyspark in /usr/local/lib/python3.11/dist-packages (3.5.4)\n",
            "Requirement already satisfied: py4j==0.10.9.7 in /usr/local/lib/python3.11/dist-packages (from pyspark) (0.10.9.7)\n"
          ]
        }
      ],
      "source": [
        "# Setup Spark SQL\n",
        "# Note if running locally you need the JVM https://www.oracle.com/java/technologies/downloads/\n",
        "# Consider running in https://colab.research.google.com/\n",
        "%pip install pyspark"
      ]
    },
    {
      "cell_type": "code",
      "execution_count": 15,
      "metadata": {
        "id": "ugRU-qnYlEaz"
      },
      "outputs": [],
      "source": [
        "\n",
        "import pyspark\n",
        "from pyspark.sql import SparkSession\n",
        "\n",
        "spark = SparkSession.builder.appName(\"BibleCounter\").getOrCreate()\n",
        "sc = spark.sparkContext\n",
        "sc.setLogLevel('WARN')"
      ]
    },
    {
      "cell_type": "code",
      "execution_count": 16,
      "metadata": {
        "id": "UNModvXFlEaz",
        "outputId": "d39a7bc5-9a02-46a8-ad2b-300988575ef4",
        "colab": {
          "base_uri": "https://localhost:8080/",
          "height": 0
        }
      },
      "outputs": [
        {
          "output_type": "stream",
          "name": "stdout",
          "text": [
            "  % Total    % Received % Xferd  Average Speed   Time    Time     Time  Current\n",
            "                                 Dload  Upload   Total   Spent    Left  Speed\n",
            "100 4351k  100 4351k    0     0   9.8M      0 --:--:-- --:--:-- --:--:--  9.8M\n"
          ]
        }
      ],
      "source": [
        "# Download the bible as txt\n",
        "!curl -L \"https://www.gutenberg.org/cache/epub/10/pg10.txt\" > bible.txt"
      ]
    },
    {
      "cell_type": "code",
      "execution_count": 23,
      "metadata": {
        "id": "ecAt7eaPlEa0",
        "outputId": "7f349a5e-0f41-4172-e32a-894b0cb479fc",
        "colab": {
          "base_uri": "https://localhost:8080/",
          "height": 0
        }
      },
      "outputs": [
        {
          "output_type": "stream",
          "name": "stdout",
          "text": [
            "+------+-------+-------+\n",
            "| Rank | Word  | Count |\n",
            "+------+-------+-------+\n",
            "|  1   | the   | 35237 |\n",
            "|  2   | and   | 29505 |\n",
            "|  3   | of    | 19663 |\n",
            "|  4   | to    |  6953 |\n",
            "|  5   | in    |  6250 |\n",
            "|  6   | that  |  5661 |\n",
            "|  7   | he    |  5223 |\n",
            "|  8   | his   |  4956 |\n",
            "|  9   | unto  |  4890 |\n",
            "|  10  | lord  |  4373 |\n",
            "|  11  | shall |  4099 |\n",
            "|  12  | for   |  4067 |\n",
            "|  13  | a     |  3582 |\n",
            "|  14  | i     |  3353 |\n",
            "|  15  | him   |  3226 |\n",
            "|  16  | it    |  3192 |\n",
            "|  17  | they  |  3172 |\n",
            "|  18  | thou  |  3081 |\n",
            "|  19  | with  |  3066 |\n",
            "|  20  | all   |  3044 |\n",
            "|  21  | be    |  2972 |\n",
            "|  22  | them  |  2940 |\n",
            "|  23  | not   |  2672 |\n",
            "|  24  | is    |  2535 |\n",
            "|  25  | said  |  2511 |\n",
            "|  26  | was   |  2482 |\n",
            "|  27  | thy   |  2429 |\n",
            "|  28  | god   |  2133 |\n",
            "|  29  | which |  2099 |\n",
            "|  30  | my    |  2082 |\n",
            "+------+-------+-------+\n"
          ]
        }
      ],
      "source": [
        "# Use SparkSQL to list all the words in the bible with their counts sorted descending by count.\n",
        "# Turn in your code and sample of your results (at least top 20).\n",
        "# Be sure to ignore case and punctuation and eliminate the blank lines.\n",
        "import re\n",
        "import string\n",
        "from prettytable import PrettyTable\n",
        "import requests\n",
        "\n",
        "# Download the Bible text from Gutenberg\n",
        "url = \"https://www.gutenberg.org/cache/epub/10/pg10.txt\"\n",
        "response = requests.get(url)\n",
        "\n",
        "with open(\"bible-1.txt\", \"w\", encoding=\"utf-8\") as file:\n",
        "  file.write(response.text)\n",
        "\n",
        "# Load the local bible file\n",
        "lines = sc.textFile(\"bible-1.txt\")\n",
        "\n",
        "# Find where the actual content starts\n",
        "start_marker = \"*** START OF THE PROJECT GUTENBERG EBOOK THE KING JAMES VERSION OF THE BIBLE ***\"\n",
        "end_marker = \"*** END OF THE PROJECT GUTENBERG EBOOK THE KING JAMES VERSION OF THE BIBLE ***\"\n",
        "\n",
        "def filter_content(line):\n",
        "    global start_reading\n",
        "    if start_marker in line:\n",
        "        start_reading = True\n",
        "        return False\n",
        "    if end_marker in line:\n",
        "        start_reading = False\n",
        "    return start_reading\n",
        "\n",
        "start_reading = False\n",
        "\n",
        "filtered_lines = lines.filter(filter_content)\n",
        "filtered_lines = filtered_lines.map(lambda line: line.lower())\n",
        "\n",
        "filtered_lines = filtered_lines.filter(lambda line: len(line.strip()) > 0)\n",
        "\n",
        "def clean_text(text):\n",
        "    translator = str.maketrans('', '', string.punctuation)\n",
        "    return text.translate(translator)\n",
        "\n",
        "words = filtered_lines.map(clean_text).flatMap(lambda line: line.split())\n",
        "words = words.filter(lambda word: len(word.strip()) > 0)\n",
        "\n",
        "wordCounts = words.map(lambda w: (w, 1))\n",
        "wordCounts = wordCounts.reduceByKey(lambda c1, c2: c1 + c2)\n",
        "\n",
        "top_words = wordCounts.sortBy(lambda x: x[1], False).take(30)\n",
        "\n",
        "table = PrettyTable()\n",
        "table.field_names = [\"Rank\", \"Word\", \"Count\"]\n",
        "table.align[\"Word\"] = \"l\"\n",
        "table.align[\"Count\"] = \"r\"\n",
        "\n",
        "for i, (word, count) in enumerate(top_words, 1):\n",
        "    table.add_row([i, word, count])\n",
        "\n",
        "print(table)"
      ]
    },
    {
      "cell_type": "code",
      "execution_count": null,
      "metadata": {
        "id": "1C337XsjlEa0"
      },
      "outputs": [],
      "source": [
        "# What to try something else?"
      ]
    }
  ],
  "metadata": {
    "kernelspec": {
      "display_name": "Python 3.10.9 64-bit",
      "language": "python",
      "name": "python3"
    },
    "language_info": {
      "codemirror_mode": {
        "name": "ipython",
        "version": 3
      },
      "file_extension": ".py",
      "mimetype": "text/x-python",
      "name": "python",
      "nbconvert_exporter": "python",
      "pygments_lexer": "ipython3",
      "version": "3.11.3"
    },
    "orig_nbformat": 4,
    "vscode": {
      "interpreter": {
        "hash": "b0fa6594d8f4cbf19f97940f81e996739fb7646882a419484c72d19e05852a7e"
      }
    },
    "colab": {
      "provenance": []
    }
  },
  "nbformat": 4,
  "nbformat_minor": 0
}