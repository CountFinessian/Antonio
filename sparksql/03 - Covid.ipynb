{
  "cells": [
    {
      "cell_type": "code",
      "execution_count": 1,
      "metadata": {
        "id": "BTogu7y3WuMV",
        "outputId": "65aae956-4f4e-41b3-cc5b-ef917719b015",
        "colab": {
          "base_uri": "https://localhost:8080/",
          "height": 0
        }
      },
      "outputs": [
        {
          "output_type": "stream",
          "name": "stdout",
          "text": [
            "Requirement already satisfied: pyspark in /usr/local/lib/python3.11/dist-packages (3.5.4)\n",
            "Requirement already satisfied: py4j==0.10.9.7 in /usr/local/lib/python3.11/dist-packages (from pyspark) (0.10.9.7)\n"
          ]
        }
      ],
      "source": [
        "# Setup Spark SQL\n",
        "# Note if running locally you need the JVM https://www.oracle.com/java/technologies/downloads/\n",
        "# Consider running in https://colab.research.google.com/\n",
        "%pip install pyspark"
      ]
    },
    {
      "cell_type": "code",
      "execution_count": 2,
      "metadata": {
        "id": "8zjIATulWuMX"
      },
      "outputs": [],
      "source": [
        "# Initialize Context - this is where you'd setup information about your Hadoop cluster if you had one!\n",
        "from pyspark.sql import SparkSession\n",
        "\n",
        "\n",
        "spark = SparkSession.builder.appName(\"Covid\").getOrCreate()\n",
        "\n",
        "sc = spark.sparkContext\n",
        "\n",
        "sc.setLogLevel(\"WARN\")"
      ]
    },
    {
      "cell_type": "code",
      "execution_count": 3,
      "metadata": {
        "id": "0c_HeLoEWuMY",
        "outputId": "23c15c1f-a213-40e3-d054-079a6a6afe65",
        "colab": {
          "base_uri": "https://localhost:8080/",
          "height": 0
        }
      },
      "outputs": [
        {
          "output_type": "stream",
          "name": "stdout",
          "text": [
            "  % Total    % Received % Xferd  Average Speed   Time    Time     Time  Current\n",
            "                                 Dload  Upload   Total   Spent    Left  Speed\n",
            "100 99.9M  100 99.9M    0     0  79.8M      0  0:00:01  0:00:01 --:--:-- 79.8M\n"
          ]
        }
      ],
      "source": [
        "# Download 100mb covid county data file\n",
        "!curl \"https://raw.githubusercontent.com/nytimes/covid-19-data/master/us-counties.csv\" > ./uscounties.csv"
      ]
    },
    {
      "cell_type": "code",
      "execution_count": 4,
      "metadata": {
        "id": "MLqqsUF4WuMY",
        "outputId": "b86814c3-991f-4a1e-c583-92878d4b2fc8",
        "colab": {
          "base_uri": "https://localhost:8080/",
          "height": 0
        }
      },
      "outputs": [
        {
          "output_type": "stream",
          "name": "stdout",
          "text": [
            "+----------+-----------+----------+-----+-----+------+\n",
            "|      date|     county|     state| fips|cases|deaths|\n",
            "+----------+-----------+----------+-----+-----+------+\n",
            "|2020-01-21|  Snohomish|Washington|53061|    1|     0|\n",
            "|2020-01-22|  Snohomish|Washington|53061|    1|     0|\n",
            "|2020-01-23|  Snohomish|Washington|53061|    1|     0|\n",
            "|2020-01-24|       Cook|  Illinois|17031|    1|     0|\n",
            "|2020-01-24|  Snohomish|Washington|53061|    1|     0|\n",
            "|2020-01-25|     Orange|California| 6059|    1|     0|\n",
            "|2020-01-25|       Cook|  Illinois|17031|    1|     0|\n",
            "|2020-01-25|  Snohomish|Washington|53061|    1|     0|\n",
            "|2020-01-26|   Maricopa|   Arizona| 4013|    1|     0|\n",
            "|2020-01-26|Los Angeles|California| 6037|    1|     0|\n",
            "|2020-01-26|     Orange|California| 6059|    1|     0|\n",
            "|2020-01-26|       Cook|  Illinois|17031|    1|     0|\n",
            "|2020-01-26|  Snohomish|Washington|53061|    1|     0|\n",
            "|2020-01-27|   Maricopa|   Arizona| 4013|    1|     0|\n",
            "|2020-01-27|Los Angeles|California| 6037|    1|     0|\n",
            "|2020-01-27|     Orange|California| 6059|    1|     0|\n",
            "|2020-01-27|       Cook|  Illinois|17031|    1|     0|\n",
            "|2020-01-27|  Snohomish|Washington|53061|    1|     0|\n",
            "|2020-01-28|   Maricopa|   Arizona| 4013|    1|     0|\n",
            "|2020-01-28|Los Angeles|California| 6037|    1|     0|\n",
            "+----------+-----------+----------+-----+-----+------+\n",
            "only showing top 20 rows\n",
            "\n"
          ]
        }
      ],
      "source": [
        "# Read the file into a Spark DataFrame\n",
        "usCountiesFilePath = \"./uscounties.csv\"\n",
        "\n",
        "df = spark.read.csv(usCountiesFilePath, inferSchema=True, header=True)\n",
        "\n",
        "df.show()"
      ]
    },
    {
      "cell_type": "code",
      "execution_count": 10,
      "metadata": {
        "id": "PJZ0D9BSWuMY",
        "outputId": "48d56353-991d-4e1c-903d-bf1f652be5b9",
        "colab": {
          "base_uri": "https://localhost:8080/",
          "height": 0
        }
      },
      "outputs": [
        {
          "output_type": "stream",
          "name": "stdout",
          "text": [
            "Max deaths:\n",
            "+-------------+--------+------+----------+\n",
            "|       county|   state|deaths|      date|\n",
            "+-------------+--------+------+----------+\n",
            "|New York City|New York| 40267|2022-05-13|\n",
            "+-------------+--------+------+----------+\n",
            "\n"
          ]
        }
      ],
      "source": [
        "# SparkSQL API\n",
        "df.createOrReplaceTempView(\"covid\")  # create table that you can do sql on\n",
        "\n",
        "print(\"Max deaths:\")\n",
        "spark.sql(\n",
        "    \"\"\"\n",
        "    select county, state, deaths, date\n",
        "    from covid\n",
        "    order by deaths desc\n",
        "    limit 1\n",
        "  \"\"\"\n",
        ").show()"
      ]
    },
    {
      "cell_type": "code",
      "execution_count": 6,
      "metadata": {
        "id": "Un4dLr7SWuMY",
        "outputId": "0f10decb-5d83-4fec-e4d7-fb41ba477bda",
        "colab": {
          "base_uri": "https://localhost:8080/",
          "height": 0
        }
      },
      "outputs": [
        {
          "output_type": "stream",
          "name": "stdout",
          "text": [
            "Max deaths:\n",
            "[Row(date=datetime.date(2022, 5, 13), county='New York City', state='New York', fips=None, cases=2422658, deaths=40267)]\n"
          ]
        }
      ],
      "source": [
        "# DataFrame style\n",
        "from pyspark.sql.functions import col\n",
        "\n",
        "print(\"Max deaths:\")\n",
        "print(\n",
        "    df.orderBy(col(\"deaths\").desc()).take(  # .where(col(\"county\") == \"New York City\") \\\n",
        "        1\n",
        "    )\n",
        ")"
      ]
    },
    {
      "cell_type": "code",
      "execution_count": 7,
      "metadata": {
        "id": "3Tnf9daUWuMZ",
        "outputId": "524ea6ea-dfe9-402f-e388-0de4ebfc9931",
        "colab": {
          "base_uri": "https://localhost:8080/",
          "height": 0
        }
      },
      "outputs": [
        {
          "output_type": "stream",
          "name": "stdout",
          "text": [
            "Max deaths:\n",
            "Row(date=datetime.date(2022, 5, 13), county='New York City', state='New York', fips=None, cases=2422658, deaths=40267)\n"
          ]
        }
      ],
      "source": [
        "# RDD MapReduce Style without key\n",
        "rows = df.rdd\n",
        "\n",
        "\n",
        "def getMax(cumm, other):\n",
        "    if other[\"deaths\"] is not None and other[\"deaths\"] > cumm[\"deaths\"]:\n",
        "        return other\n",
        "    else:\n",
        "        return cumm\n",
        "\n",
        "\n",
        "print(\"Max deaths:\")\n",
        "print(rows.reduce(getMax))"
      ]
    },
    {
      "cell_type": "code",
      "execution_count": 8,
      "metadata": {
        "id": "Niq8SodKWuMZ",
        "outputId": "2c3078b9-53fb-4c44-ce1b-5f68070c3535",
        "colab": {
          "base_uri": "https://localhost:8080/",
          "height": 0
        }
      },
      "outputs": [
        {
          "output_type": "stream",
          "name": "stdout",
          "text": [
            "Max deaths:\n",
            "(40267, 'New York City,New York')\n"
          ]
        }
      ],
      "source": [
        "# RDD MapReduce Style with mapped tuples\n",
        "rows = df.rdd\n",
        "\n",
        "\n",
        "def getMax(cumm, other):\n",
        "    if other[0] > cumm[0]:\n",
        "        return other\n",
        "    else:\n",
        "        return cumm\n",
        "\n",
        "\n",
        "rows = rows.map(lambda r: (r[\"deaths\"] or 0, f\"{r['county']},{r['state']}\"))\n",
        "print(\"Max deaths:\")\n",
        "print(rows.reduce(getMax))"
      ]
    },
    {
      "cell_type": "code",
      "execution_count": 11,
      "metadata": {
        "id": "ag3VUpo9WuMZ",
        "outputId": "b4d99f41-de58-4a7d-9766-8ba3cfa31342",
        "colab": {
          "base_uri": "https://localhost:8080/",
          "height": 0
        }
      },
      "outputs": [
        {
          "output_type": "stream",
          "name": "stdout",
          "text": [
            "Max deaths:\n",
            "+-------------+--------+------+----------+\n",
            "|       county|   state|deaths|      date|\n",
            "+-------------+--------+------+----------+\n",
            "|New York City|New York| 40267|2022-05-13|\n",
            "+-------------+--------+------+----------+\n",
            "\n"
          ]
        }
      ],
      "source": [
        "# Write code to find the county with the most deaths\n",
        "# SparkSQL API\n",
        "df.createOrReplaceTempView(\"covid\")  # create table that you can do sql on\n",
        "\n",
        "print(\"Max deaths:\")\n",
        "spark.sql(\n",
        "    \"\"\"\n",
        "    select county, state, deaths, date\n",
        "    from covid\n",
        "    order by deaths desc\n",
        "    limit 1\n",
        "  \"\"\"\n",
        ").show()"
      ]
    },
    {
      "cell_type": "code",
      "execution_count": 13,
      "metadata": {
        "id": "ASwuQqrnWuMZ",
        "outputId": "ebeeb03b-f9a7-45dd-a215-2348855c32f9",
        "colab": {
          "base_uri": "https://localhost:8080/",
          "height": 0
        }
      },
      "outputs": [
        {
          "output_type": "stream",
          "name": "stdout",
          "text": [
            "Max cases:\n",
            "+-----------+----------+-------+----------+\n",
            "|     county|     state|  cases|      date|\n",
            "+-----------+----------+-------+----------+\n",
            "|Los Angeles|California|2908425|2022-05-13|\n",
            "+-----------+----------+-------+----------+\n",
            "\n"
          ]
        }
      ],
      "source": [
        "# Write code to find the county with the most cases\n",
        "df.createOrReplaceTempView(\"covid\")\n",
        "\n",
        "print(\"Max cases:\")\n",
        "spark.sql(\n",
        "    \"\"\"\n",
        "    select county, state, cases, date\n",
        "    from covid\n",
        "    order by cases desc\n",
        "    limit 1\n",
        "    \"\"\"\n",
        ").show()"
      ]
    },
    {
      "cell_type": "code",
      "execution_count": 25,
      "metadata": {
        "id": "0xEfrgZ4WuMZ",
        "outputId": "2283ffcb-a946-471e-ca38-a9c50c813256",
        "colab": {
          "base_uri": "https://localhost:8080/",
          "height": 0
        }
      },
      "outputs": [
        {
          "output_type": "stream",
          "name": "stdout",
          "text": [
            "Max cases:\n",
            "+-----+------+----------------------+----------+\n",
            "|state|county|total_number_of_deaths|      date|\n",
            "+-----+------+----------------------+----------+\n",
            "| Utah|  Utah|                   791|2022-05-13|\n",
            "+-----+------+----------------------+----------+\n",
            "\n"
          ]
        }
      ],
      "source": [
        "# Write code to find the total number of deaths in Utah county\n",
        "df.createOrReplaceTempView(\"covid\")\n",
        "\n",
        "print(\"Max cases:\")\n",
        "spark.sql(\n",
        "    \"\"\"\n",
        "    select * from\n",
        "    ( select state, county, deaths as total_number_of_deaths, date\n",
        "    from covid\n",
        "    where county = \"Utah\"\n",
        "    ) as deaths\n",
        "    order by date desc\n",
        "    limit 1\n",
        "    \"\"\"\n",
        ").show()"
      ]
    },
    {
      "cell_type": "code",
      "execution_count": 59,
      "metadata": {
        "id": "xTbHRoiLWuMZ",
        "outputId": "d7026658-79bc-47c6-9c5b-c4143a1d94c8",
        "colab": {
          "base_uri": "https://localhost:8080/",
          "height": 0
        }
      },
      "outputs": [
        {
          "output_type": "stream",
          "name": "stdout",
          "text": [
            "death rate:\n",
            "+--------------------+------------------+\n",
            "|               state|death_rate_percent|\n",
            "+--------------------+------------------+\n",
            "|        Pennsylvania|              1.57|\n",
            "|         Mississippi|              1.55|\n",
            "|             Alabama|               1.5|\n",
            "|              Nevada|              1.49|\n",
            "|             Georgia|              1.49|\n",
            "|             Arizona|              1.49|\n",
            "|            Michigan|              1.46|\n",
            "|          New Mexico|              1.45|\n",
            "|          New Jersey|              1.45|\n",
            "|                Ohio|              1.42|\n",
            "|            Missouri|              1.41|\n",
            "|         Connecticut|               1.4|\n",
            "|           Louisiana|              1.39|\n",
            "|            Oklahoma|              1.38|\n",
            "|            Maryland|              1.38|\n",
            "|             Indiana|              1.38|\n",
            "|            Arkansas|              1.36|\n",
            "|       West Virginia|              1.36|\n",
            "|           Tennessee|              1.31|\n",
            "|            New York|              1.31|\n",
            "|               Texas|               1.3|\n",
            "|                Iowa|              1.24|\n",
            "|             Florida|              1.24|\n",
            "|             Montana|              1.23|\n",
            "|        South Dakota|              1.22|\n",
            "|      South Carolina|              1.21|\n",
            "|            Illinois|              1.18|\n",
            "|            Virginia|              1.17|\n",
            "|            Kentucky|              1.17|\n",
            "|             Wyoming|              1.16|\n",
            "|       Massachusetts|              1.13|\n",
            "|              Kansas|              1.12|\n",
            "|            Delaware|               1.1|\n",
            "|               Idaho|               1.1|\n",
            "|              Oregon|              1.02|\n",
            "|          California|              0.97|\n",
            "|        North Dakota|              0.96|\n",
            "|District of Columbia|              0.93|\n",
            "|        Rhode Island|              0.93|\n",
            "|               Maine|              0.92|\n",
            "|      North Carolina|              0.91|\n",
            "|            Colorado|               0.9|\n",
            "|            Nebraska|              0.88|\n",
            "|           Wisconsin|              0.88|\n",
            "|           Minnesota|              0.87|\n",
            "|          Washington|              0.84|\n",
            "|       New Hampshire|              0.79|\n",
            "|                Guam|              0.73|\n",
            "|         Puerto Rico|              0.68|\n",
            "|      Virgin Islands|              0.63|\n",
            "|              Hawaii|              0.57|\n",
            "|                Utah|              0.51|\n",
            "|      American Samoa|              0.51|\n",
            "|             Vermont|               0.5|\n",
            "|              Alaska|              0.48|\n",
            "|Northern Mariana ...|               0.3|\n",
            "+--------------------+------------------+\n",
            "\n"
          ]
        }
      ],
      "source": [
        "# Write code to find the death rate for each state and sort the states by death rate descending\n",
        "\n",
        "df.createOrReplaceTempView(\"covid\")\n",
        "\n",
        "print(\"death rate:\")\n",
        "spark.sql(\n",
        "    \"\"\"\n",
        "    select state, ROUND(((sum(deaths)/sum(cases))*100),2) as death_rate_percent from(\n",
        "    select state, county, Last(deaths) as deaths, Last(cases) as cases\n",
        "    from covid\n",
        "    Group by state, county) as deathTocases\n",
        "    Group by state\n",
        "    Order by death_rate_percent desc\n",
        "    \"\"\"\n",
        ").show(100)\n"
      ]
    },
    {
      "cell_type": "code",
      "execution_count": 72,
      "metadata": {
        "id": "g2pPvp5VWuMZ",
        "outputId": "f5302a04-7461-4d6e-f63b-7ee190d7214f",
        "colab": {
          "base_uri": "https://localhost:8080/",
          "height": 0
        }
      },
      "outputs": [
        {
          "output_type": "stream",
          "name": "stdout",
          "text": [
            "highest deaths per county in WA:\n",
            "+------------+------+\n",
            "|      county|deaths|\n",
            "+------------+------+\n",
            "|        King|  2774|\n",
            "|      Pierce|  1409|\n",
            "|     Spokane|  1378|\n",
            "|   Snohomish|  1145|\n",
            "|       Clark|   804|\n",
            "|      Yakima|   790|\n",
            "|      Benton|   472|\n",
            "|    Thurston|   417|\n",
            "|     Cowlitz|   347|\n",
            "|      Kitsap|   344|\n",
            "|     Whatcom|   301|\n",
            "|       Grant|   259|\n",
            "|       Lewis|   254|\n",
            "|    Franklin|   214|\n",
            "|      Skagit|   204|\n",
            "|Grays Harbor|   198|\n",
            "|      Chelan|   162|\n",
            "|     Stevens|   147|\n",
            "| Walla Walla|   142|\n",
            "|     Clallam|   141|\n",
            "+------------+------+\n",
            "only showing top 20 rows\n",
            "\n"
          ]
        }
      ],
      "source": [
        "# Write code to something else interesting with this data – your choice\n",
        "\n",
        "df.createOrReplaceTempView(\"covid\")\n",
        "\n",
        "print(\"highest deaths per county in WA:\")\n",
        "spark.sql(\n",
        "    \"\"\"\n",
        "    select county, Last(deaths) as deaths\n",
        "    from covid\n",
        "    Where State = \"Washington\"\n",
        "    Group by county\n",
        "    Order by deaths desc\n",
        "    \"\"\"\n",
        ").show(20)"
      ]
    },
    {
      "cell_type": "code",
      "source": [
        "# Extra Credit 1 - Plot your death rate data!\n",
        "# Extra Credit 2 - Join this with other data or find something intresting in this data and plot it on a map!\n",
        "\n",
        "import pandas as pd\n",
        "import plotly.express as px\n",
        "\n",
        "data = pd.DataFrame({\n",
        "  'state': ['NY', 'CA', 'TX', 'FL'],\n",
        "  'values': [10, 20, 15, 25]\n",
        "})\n",
        "\n",
        "fig = px.choropleth(\n",
        "    data,\n",
        "    locations='state', # Column with state abbreviations\n",
        "    locationmode='USA-states', # Set location mode to US states\n",
        "    color='values', # Column to determine color intensity\n",
        "    scope='usa', # Limit map to the USA\n",
        "    color_continuous_scale='Viridis', # Choose a color scale\n",
        "    title='Extra Credit Plot <Insert name here>'\n",
        ")\n",
        "\n",
        "fig.show()\n"
      ],
      "metadata": {
        "id": "HASapzHvXF5a",
        "outputId": "317df779-6c28-49ee-a53d-5721c5b966fa",
        "colab": {
          "base_uri": "https://localhost:8080/",
          "height": 542
        }
      },
      "execution_count": 9,
      "outputs": [
        {
          "output_type": "display_data",
          "data": {
            "text/html": [
              "<html>\n",
              "<head><meta charset=\"utf-8\" /></head>\n",
              "<body>\n",
              "    <div>            <script src=\"https://cdnjs.cloudflare.com/ajax/libs/mathjax/2.7.5/MathJax.js?config=TeX-AMS-MML_SVG\"></script><script type=\"text/javascript\">if (window.MathJax && window.MathJax.Hub && window.MathJax.Hub.Config) {window.MathJax.Hub.Config({SVG: {font: \"STIX-Web\"}});}</script>                <script type=\"text/javascript\">window.PlotlyConfig = {MathJaxConfig: 'local'};</script>\n",
              "        <script charset=\"utf-8\" src=\"https://cdn.plot.ly/plotly-2.35.2.min.js\"></script>                <div id=\"6d17b9d0-0a47-466a-afc2-5619aaf72b37\" class=\"plotly-graph-div\" style=\"height:525px; width:100%;\"></div>            <script type=\"text/javascript\">                                    window.PLOTLYENV=window.PLOTLYENV || {};                                    if (document.getElementById(\"6d17b9d0-0a47-466a-afc2-5619aaf72b37\")) {                    Plotly.newPlot(                        \"6d17b9d0-0a47-466a-afc2-5619aaf72b37\",                        [{\"coloraxis\":\"coloraxis\",\"geo\":\"geo\",\"hovertemplate\":\"state=%{location}\\u003cbr\\u003evalues=%{z}\\u003cextra\\u003e\\u003c\\u002fextra\\u003e\",\"locationmode\":\"USA-states\",\"locations\":[\"NY\",\"CA\",\"TX\",\"FL\"],\"name\":\"\",\"z\":[10,20,15,25],\"type\":\"choropleth\"}],                        {\"template\":{\"data\":{\"histogram2dcontour\":[{\"type\":\"histogram2dcontour\",\"colorbar\":{\"outlinewidth\":0,\"ticks\":\"\"},\"colorscale\":[[0.0,\"#0d0887\"],[0.1111111111111111,\"#46039f\"],[0.2222222222222222,\"#7201a8\"],[0.3333333333333333,\"#9c179e\"],[0.4444444444444444,\"#bd3786\"],[0.5555555555555556,\"#d8576b\"],[0.6666666666666666,\"#ed7953\"],[0.7777777777777778,\"#fb9f3a\"],[0.8888888888888888,\"#fdca26\"],[1.0,\"#f0f921\"]]}],\"choropleth\":[{\"type\":\"choropleth\",\"colorbar\":{\"outlinewidth\":0,\"ticks\":\"\"}}],\"histogram2d\":[{\"type\":\"histogram2d\",\"colorbar\":{\"outlinewidth\":0,\"ticks\":\"\"},\"colorscale\":[[0.0,\"#0d0887\"],[0.1111111111111111,\"#46039f\"],[0.2222222222222222,\"#7201a8\"],[0.3333333333333333,\"#9c179e\"],[0.4444444444444444,\"#bd3786\"],[0.5555555555555556,\"#d8576b\"],[0.6666666666666666,\"#ed7953\"],[0.7777777777777778,\"#fb9f3a\"],[0.8888888888888888,\"#fdca26\"],[1.0,\"#f0f921\"]]}],\"heatmap\":[{\"type\":\"heatmap\",\"colorbar\":{\"outlinewidth\":0,\"ticks\":\"\"},\"colorscale\":[[0.0,\"#0d0887\"],[0.1111111111111111,\"#46039f\"],[0.2222222222222222,\"#7201a8\"],[0.3333333333333333,\"#9c179e\"],[0.4444444444444444,\"#bd3786\"],[0.5555555555555556,\"#d8576b\"],[0.6666666666666666,\"#ed7953\"],[0.7777777777777778,\"#fb9f3a\"],[0.8888888888888888,\"#fdca26\"],[1.0,\"#f0f921\"]]}],\"heatmapgl\":[{\"type\":\"heatmapgl\",\"colorbar\":{\"outlinewidth\":0,\"ticks\":\"\"},\"colorscale\":[[0.0,\"#0d0887\"],[0.1111111111111111,\"#46039f\"],[0.2222222222222222,\"#7201a8\"],[0.3333333333333333,\"#9c179e\"],[0.4444444444444444,\"#bd3786\"],[0.5555555555555556,\"#d8576b\"],[0.6666666666666666,\"#ed7953\"],[0.7777777777777778,\"#fb9f3a\"],[0.8888888888888888,\"#fdca26\"],[1.0,\"#f0f921\"]]}],\"contourcarpet\":[{\"type\":\"contourcarpet\",\"colorbar\":{\"outlinewidth\":0,\"ticks\":\"\"}}],\"contour\":[{\"type\":\"contour\",\"colorbar\":{\"outlinewidth\":0,\"ticks\":\"\"},\"colorscale\":[[0.0,\"#0d0887\"],[0.1111111111111111,\"#46039f\"],[0.2222222222222222,\"#7201a8\"],[0.3333333333333333,\"#9c179e\"],[0.4444444444444444,\"#bd3786\"],[0.5555555555555556,\"#d8576b\"],[0.6666666666666666,\"#ed7953\"],[0.7777777777777778,\"#fb9f3a\"],[0.8888888888888888,\"#fdca26\"],[1.0,\"#f0f921\"]]}],\"surface\":[{\"type\":\"surface\",\"colorbar\":{\"outlinewidth\":0,\"ticks\":\"\"},\"colorscale\":[[0.0,\"#0d0887\"],[0.1111111111111111,\"#46039f\"],[0.2222222222222222,\"#7201a8\"],[0.3333333333333333,\"#9c179e\"],[0.4444444444444444,\"#bd3786\"],[0.5555555555555556,\"#d8576b\"],[0.6666666666666666,\"#ed7953\"],[0.7777777777777778,\"#fb9f3a\"],[0.8888888888888888,\"#fdca26\"],[1.0,\"#f0f921\"]]}],\"mesh3d\":[{\"type\":\"mesh3d\",\"colorbar\":{\"outlinewidth\":0,\"ticks\":\"\"}}],\"scatter\":[{\"fillpattern\":{\"fillmode\":\"overlay\",\"size\":10,\"solidity\":0.2},\"type\":\"scatter\"}],\"parcoords\":[{\"type\":\"parcoords\",\"line\":{\"colorbar\":{\"outlinewidth\":0,\"ticks\":\"\"}}}],\"scatterpolargl\":[{\"type\":\"scatterpolargl\",\"marker\":{\"colorbar\":{\"outlinewidth\":0,\"ticks\":\"\"}}}],\"bar\":[{\"error_x\":{\"color\":\"#2a3f5f\"},\"error_y\":{\"color\":\"#2a3f5f\"},\"marker\":{\"line\":{\"color\":\"#E5ECF6\",\"width\":0.5},\"pattern\":{\"fillmode\":\"overlay\",\"size\":10,\"solidity\":0.2}},\"type\":\"bar\"}],\"scattergeo\":[{\"type\":\"scattergeo\",\"marker\":{\"colorbar\":{\"outlinewidth\":0,\"ticks\":\"\"}}}],\"scatterpolar\":[{\"type\":\"scatterpolar\",\"marker\":{\"colorbar\":{\"outlinewidth\":0,\"ticks\":\"\"}}}],\"histogram\":[{\"marker\":{\"pattern\":{\"fillmode\":\"overlay\",\"size\":10,\"solidity\":0.2}},\"type\":\"histogram\"}],\"scattergl\":[{\"type\":\"scattergl\",\"marker\":{\"colorbar\":{\"outlinewidth\":0,\"ticks\":\"\"}}}],\"scatter3d\":[{\"type\":\"scatter3d\",\"line\":{\"colorbar\":{\"outlinewidth\":0,\"ticks\":\"\"}},\"marker\":{\"colorbar\":{\"outlinewidth\":0,\"ticks\":\"\"}}}],\"scattermapbox\":[{\"type\":\"scattermapbox\",\"marker\":{\"colorbar\":{\"outlinewidth\":0,\"ticks\":\"\"}}}],\"scatterternary\":[{\"type\":\"scatterternary\",\"marker\":{\"colorbar\":{\"outlinewidth\":0,\"ticks\":\"\"}}}],\"scattercarpet\":[{\"type\":\"scattercarpet\",\"marker\":{\"colorbar\":{\"outlinewidth\":0,\"ticks\":\"\"}}}],\"carpet\":[{\"aaxis\":{\"endlinecolor\":\"#2a3f5f\",\"gridcolor\":\"white\",\"linecolor\":\"white\",\"minorgridcolor\":\"white\",\"startlinecolor\":\"#2a3f5f\"},\"baxis\":{\"endlinecolor\":\"#2a3f5f\",\"gridcolor\":\"white\",\"linecolor\":\"white\",\"minorgridcolor\":\"white\",\"startlinecolor\":\"#2a3f5f\"},\"type\":\"carpet\"}],\"table\":[{\"cells\":{\"fill\":{\"color\":\"#EBF0F8\"},\"line\":{\"color\":\"white\"}},\"header\":{\"fill\":{\"color\":\"#C8D4E3\"},\"line\":{\"color\":\"white\"}},\"type\":\"table\"}],\"barpolar\":[{\"marker\":{\"line\":{\"color\":\"#E5ECF6\",\"width\":0.5},\"pattern\":{\"fillmode\":\"overlay\",\"size\":10,\"solidity\":0.2}},\"type\":\"barpolar\"}],\"pie\":[{\"automargin\":true,\"type\":\"pie\"}]},\"layout\":{\"autotypenumbers\":\"strict\",\"colorway\":[\"#636efa\",\"#EF553B\",\"#00cc96\",\"#ab63fa\",\"#FFA15A\",\"#19d3f3\",\"#FF6692\",\"#B6E880\",\"#FF97FF\",\"#FECB52\"],\"font\":{\"color\":\"#2a3f5f\"},\"hovermode\":\"closest\",\"hoverlabel\":{\"align\":\"left\"},\"paper_bgcolor\":\"white\",\"plot_bgcolor\":\"#E5ECF6\",\"polar\":{\"bgcolor\":\"#E5ECF6\",\"angularaxis\":{\"gridcolor\":\"white\",\"linecolor\":\"white\",\"ticks\":\"\"},\"radialaxis\":{\"gridcolor\":\"white\",\"linecolor\":\"white\",\"ticks\":\"\"}},\"ternary\":{\"bgcolor\":\"#E5ECF6\",\"aaxis\":{\"gridcolor\":\"white\",\"linecolor\":\"white\",\"ticks\":\"\"},\"baxis\":{\"gridcolor\":\"white\",\"linecolor\":\"white\",\"ticks\":\"\"},\"caxis\":{\"gridcolor\":\"white\",\"linecolor\":\"white\",\"ticks\":\"\"}},\"coloraxis\":{\"colorbar\":{\"outlinewidth\":0,\"ticks\":\"\"}},\"colorscale\":{\"sequential\":[[0.0,\"#0d0887\"],[0.1111111111111111,\"#46039f\"],[0.2222222222222222,\"#7201a8\"],[0.3333333333333333,\"#9c179e\"],[0.4444444444444444,\"#bd3786\"],[0.5555555555555556,\"#d8576b\"],[0.6666666666666666,\"#ed7953\"],[0.7777777777777778,\"#fb9f3a\"],[0.8888888888888888,\"#fdca26\"],[1.0,\"#f0f921\"]],\"sequentialminus\":[[0.0,\"#0d0887\"],[0.1111111111111111,\"#46039f\"],[0.2222222222222222,\"#7201a8\"],[0.3333333333333333,\"#9c179e\"],[0.4444444444444444,\"#bd3786\"],[0.5555555555555556,\"#d8576b\"],[0.6666666666666666,\"#ed7953\"],[0.7777777777777778,\"#fb9f3a\"],[0.8888888888888888,\"#fdca26\"],[1.0,\"#f0f921\"]],\"diverging\":[[0,\"#8e0152\"],[0.1,\"#c51b7d\"],[0.2,\"#de77ae\"],[0.3,\"#f1b6da\"],[0.4,\"#fde0ef\"],[0.5,\"#f7f7f7\"],[0.6,\"#e6f5d0\"],[0.7,\"#b8e186\"],[0.8,\"#7fbc41\"],[0.9,\"#4d9221\"],[1,\"#276419\"]]},\"xaxis\":{\"gridcolor\":\"white\",\"linecolor\":\"white\",\"ticks\":\"\",\"title\":{\"standoff\":15},\"zerolinecolor\":\"white\",\"automargin\":true,\"zerolinewidth\":2},\"yaxis\":{\"gridcolor\":\"white\",\"linecolor\":\"white\",\"ticks\":\"\",\"title\":{\"standoff\":15},\"zerolinecolor\":\"white\",\"automargin\":true,\"zerolinewidth\":2},\"scene\":{\"xaxis\":{\"backgroundcolor\":\"#E5ECF6\",\"gridcolor\":\"white\",\"linecolor\":\"white\",\"showbackground\":true,\"ticks\":\"\",\"zerolinecolor\":\"white\",\"gridwidth\":2},\"yaxis\":{\"backgroundcolor\":\"#E5ECF6\",\"gridcolor\":\"white\",\"linecolor\":\"white\",\"showbackground\":true,\"ticks\":\"\",\"zerolinecolor\":\"white\",\"gridwidth\":2},\"zaxis\":{\"backgroundcolor\":\"#E5ECF6\",\"gridcolor\":\"white\",\"linecolor\":\"white\",\"showbackground\":true,\"ticks\":\"\",\"zerolinecolor\":\"white\",\"gridwidth\":2}},\"shapedefaults\":{\"line\":{\"color\":\"#2a3f5f\"}},\"annotationdefaults\":{\"arrowcolor\":\"#2a3f5f\",\"arrowhead\":0,\"arrowwidth\":1},\"geo\":{\"bgcolor\":\"white\",\"landcolor\":\"#E5ECF6\",\"subunitcolor\":\"white\",\"showland\":true,\"showlakes\":true,\"lakecolor\":\"white\"},\"title\":{\"x\":0.05},\"mapbox\":{\"style\":\"light\"}}},\"geo\":{\"domain\":{\"x\":[0.0,1.0],\"y\":[0.0,1.0]},\"center\":{},\"scope\":\"usa\"},\"coloraxis\":{\"colorbar\":{\"title\":{\"text\":\"values\"}},\"colorscale\":[[0.0,\"#440154\"],[0.1111111111111111,\"#482878\"],[0.2222222222222222,\"#3e4989\"],[0.3333333333333333,\"#31688e\"],[0.4444444444444444,\"#26828e\"],[0.5555555555555556,\"#1f9e89\"],[0.6666666666666666,\"#35b779\"],[0.7777777777777778,\"#6ece58\"],[0.8888888888888888,\"#b5de2b\"],[1.0,\"#fde725\"]]},\"legend\":{\"tracegroupgap\":0},\"title\":{\"text\":\"Extra Credit Plot \\u003cInsert name here\\u003e\"}},                        {\"responsive\": true}                    ).then(function(){\n",
              "                            \n",
              "var gd = document.getElementById('6d17b9d0-0a47-466a-afc2-5619aaf72b37');\n",
              "var x = new MutationObserver(function (mutations, observer) {{\n",
              "        var display = window.getComputedStyle(gd).display;\n",
              "        if (!display || display === 'none') {{\n",
              "            console.log([gd, 'removed!']);\n",
              "            Plotly.purge(gd);\n",
              "            observer.disconnect();\n",
              "        }}\n",
              "}});\n",
              "\n",
              "// Listen for the removal of the full notebook cells\n",
              "var notebookContainer = gd.closest('#notebook-container');\n",
              "if (notebookContainer) {{\n",
              "    x.observe(notebookContainer, {childList: true});\n",
              "}}\n",
              "\n",
              "// Listen for the clearing of the current output cell\n",
              "var outputEl = gd.closest('.output');\n",
              "if (outputEl) {{\n",
              "    x.observe(outputEl, {childList: true});\n",
              "}}\n",
              "\n",
              "                        })                };                            </script>        </div>\n",
              "</body>\n",
              "</html>"
            ]
          },
          "metadata": {}
        }
      ]
    },
    {
      "cell_type": "code",
      "source": [],
      "metadata": {
        "id": "IjH6Dq8saDY8"
      },
      "execution_count": null,
      "outputs": []
    }
  ],
  "metadata": {
    "kernelspec": {
      "display_name": "Python 3",
      "language": "python",
      "name": "python3"
    },
    "language_info": {
      "codemirror_mode": {
        "name": "ipython",
        "version": 3
      },
      "file_extension": ".py",
      "mimetype": "text/x-python",
      "name": "python",
      "nbconvert_exporter": "python",
      "pygments_lexer": "ipython3",
      "version": "3.11.3"
    },
    "colab": {
      "provenance": []
    }
  },
  "nbformat": 4,
  "nbformat_minor": 0
}